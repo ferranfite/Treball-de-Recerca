{
 "cells": [
  {
   "cell_type": "code",
   "execution_count": 3,
   "id": "f534b36e",
   "metadata": {},
   "outputs": [],
   "source": [
    "import pandas as pd\n",
    "\n",
    "dades = pd.read_excel('BDD_EntrenamentModel_Estadístiques-La_Liga-2023-2024.xlsx')\n",
    "d_class_general = pd.read_excel('BDD_EntrenamentModel_Estadístiques-La_Liga-2023-2024.xlsx', sheet_name='ClassificacióGeneral')\n"
   ]
  },
  {
   "cell_type": "code",
   "execution_count": 4,
   "id": "e681ed94",
   "metadata": {},
   "outputs": [
    {
     "name": "stdout",
     "output_type": "stream",
     "text": [
      "Victòries            1.000000\n",
      "%_Victories          1.000000\n",
      "GD                   0.979662\n",
      "Home Win             0.965474\n",
      "%_HomeWin            0.965474\n",
      "M_GolsF              0.904092\n",
      "GF                   0.904092\n",
      "Home GF              0.883765\n",
      "M_HomeGF             0.883765\n",
      "Clean Sheets         0.794934\n",
      "%_CS                 0.794934\n",
      "Home Clean Sheets    0.616412\n",
      "%_HomeGoals          0.137750\n",
      "Home GA             -0.532346\n",
      "Empats              -0.658810\n",
      "%_Empats            -0.658810\n",
      "GA                  -0.707373\n",
      "M_GolsC             -0.707373\n",
      "Home Draw           -0.816516\n",
      "%_HomeDraw          -0.816516\n",
      "%_HomeLoss          -0.847394\n",
      "Home Loss           -0.847394\n",
      "Derrotes            -0.918796\n",
      "%_Derrotes          -0.918796\n",
      "MP                        NaN\n",
      "Home MP                   NaN\n",
      "Name: Victòries, dtype: float64\n"
     ]
    }
   ],
   "source": [
    "correlacions = d_class_general.select_dtypes(include='number').corr()['Victòries'].sort_values(ascending=False)\n",
    "print(correlacions)\n"
   ]
  },
  {
   "cell_type": "code",
   "execution_count": null,
   "id": "82f99fd6",
   "metadata": {},
   "outputs": [],
   "source": []
  }
 ],
 "metadata": {
  "kernelspec": {
   "display_name": "Python 3",
   "language": "python",
   "name": "python3"
  },
  "language_info": {
   "codemirror_mode": {
    "name": "ipython",
    "version": 3
   },
   "file_extension": ".py",
   "mimetype": "text/x-python",
   "name": "python",
   "nbconvert_exporter": "python",
   "pygments_lexer": "ipython3",
   "version": "3.13.5"
  }
 },
 "nbformat": 4,
 "nbformat_minor": 5
}
