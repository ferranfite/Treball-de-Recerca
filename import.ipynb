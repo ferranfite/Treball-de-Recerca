{
 "cells": [
  {
   "cell_type": "code",
   "execution_count": null,
   "id": "f534b36e",
   "metadata": {},
   "outputs": [],
   "source": [
    "import pandas as pd\n",
    "\n",
    "dades = pd.read_excel('BDD_Estadístiques-La_Liga-2023-2024.xlsx')\n",
    "d_class_general = pd.read_excel('BDD_Estadístiques-La_Liga-2023-2024.xlsx', sheet_name='ClassificacióGeneral')\n"
   ]
  },
  {
   "cell_type": "code",
   "execution_count": null,
   "id": "e681ed94",
   "metadata": {},
   "outputs": [],
   "source": [
    "correlacions = d_class_general.select_dtypes(include='number').corr()['Win'].sort_values(ascending=False)\n"
   ]
  },
  {
   "cell_type": "code",
   "execution_count": null,
   "id": "82f99fd6",
   "metadata": {},
   "outputs": [],
   "source": []
  }
 ],
 "metadata": {
  "kernelspec": {
   "display_name": "Python 3",
   "language": "python",
   "name": "python3"
  },
  "language_info": {
   "codemirror_mode": {
    "name": "ipython",
    "version": 3
   },
   "file_extension": ".py",
   "mimetype": "text/x-python",
   "name": "python",
   "nbconvert_exporter": "python",
   "pygments_lexer": "ipython3",
   "version": "3.13.5"
  }
 },
 "nbformat": 4,
 "nbformat_minor": 5
}
